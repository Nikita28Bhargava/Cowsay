{
 "cells": [
  {
   "cell_type": "code",
   "execution_count": null,
   "metadata": {},
   "outputs": [],
   "source": [
    "pip install cowsay"
   ]
  },
  {
   "cell_type": "code",
   "execution_count": 1,
   "metadata": {},
   "outputs": [],
   "source": [
    "import cowsay"
   ]
  },
  {
   "cell_type": "code",
   "execution_count": 2,
   "metadata": {},
   "outputs": [
    {
     "name": "stdout",
     "output_type": "stream",
     "text": [
      "  ___________\n",
      "| I am Daemon |\n",
      "  ===========\n",
      "                   \\\n",
      "                    \\\n",
      "                     \\\n",
      "                      \\\n",
      "                       /- _  `-/  '\n",
      "                      (/\\/ \\ \\   /\\\n",
      "                      / /   | `    \\\n",
      "                      O O   ) /    |\n",
      "                      `-^--'`<     '\n",
      "                     (_.)  _  )   /\n",
      "                      `.___/`    /\n",
      "                        `-----' /\n",
      "           <----.     __ / __   \\\n",
      "           <----|====O)))==) \\) /====\n",
      "           <----'    `--' `.__,' \\\n",
      "                        |        |\n",
      "                         \\       /\n",
      "                   ______( (_  / \\______\n",
      "                 ,'  ,-----'   |        \\\n",
      "                 `--{__________)        \\/\n"
     ]
    }
   ],
   "source": [
    "cowsay.daemon(\"I am Daemon\")"
   ]
  },
  {
   "cell_type": "code",
   "execution_count": 18,
   "metadata": {},
   "outputs": [
    {
     "name": "stdout",
     "output_type": "stream",
     "text": [
      "  ___________________\n",
      "| I am milk, drink me |\n",
      "  ===================\n",
      "                   \\\n",
      "                    \\\n",
      "                     \\\n",
      "                      \\\n",
      "                          ____________\n",
      "                          |__________|\n",
      "                         /           /\\\n",
      "                        /           /  \\\n",
      "                       /___________/___/|\n",
      "                       |          |     |\n",
      "                       |  ==\\ /== |     |\n",
      "                       |   O   O  | \\ \\ |\n",
      "                       |     <    |  \\ \\|\n",
      "                      /|          |   \\ \\\n",
      "                     / |  \\_____/ |   / /\n",
      "                    / /|          |  / /|\n",
      "                   /||\\|          | /||\\/\n",
      "                       -------------|\n",
      "                           | |    | |\n",
      "                          <__/    \\__>\n"
     ]
    }
   ],
   "source": [
    "cowsay.milk(\"I am milk, drink me\")"
   ]
  },
  {
   "cell_type": "code",
   "execution_count": 6,
   "metadata": {},
   "outputs": [
    {
     "name": "stdout",
     "output_type": "stream",
     "text": [
      "  _____________\n",
      "| I am a dragon |\n",
      "  =============\n",
      "               \\\n",
      "                \\\n",
      "                 \\\n",
      "                  \\\n",
      "                                        / \\\\  //\\\\\n",
      "                         |\\\\___/|      /   \\\\//  \\\\\\\\\n",
      "                         /0  0  \\\\__  /    //  | \\\\ \\\\\n",
      "                        /     /  \\\\/_/    //   |  \\\\  \\\\\n",
      "                        \\@_^_\\@'/   \\\\/_   //    |   \\\\   \\\\\n",
      "                        //_^_/     \\\\/_ //     |    \\\\    \\\\\n",
      "                     ( //) |        \\\\///      |     \\\\     \\\\\n",
      "                   ( / /) _|_ /   )  //       |      \\\\     _\\\\\n",
      "                 ( // /) '/,_ _ _/  ( ; -.    |    _ _\\\\.-~        .-~~~^-.\n",
      "               (( / / )) ,-{        _      `-.|.-~-.           .~         `.\n",
      "              (( // / ))  '/\\\\      /                 ~-. _ .-~      .-~^-.  \\\\\n",
      "              (( /// ))      `.   {            }                   /      \\\\  \\\\\n",
      "               (( / ))     .----~-.\\\\        \\\\-'                 .~         \\\\  `. \\\\^-.\n",
      "                          ///.----..>        \\\\             _ -~             `.  ^-`  ^-_\n",
      "                            ///-._ _ _ _ _ _ _}^ - - - - ~                     ~-- ,.-~\n",
      "                                                                               /.-~\n"
     ]
    }
   ],
   "source": [
    "cowsay.dragon(\"I am a dragon\")"
   ]
  },
  {
   "cell_type": "code",
   "execution_count": 7,
   "metadata": {},
   "outputs": [
    {
     "name": "stdout",
     "output_type": "stream",
     "text": [
      "  _____\n",
      "| MOO.. |\n",
      "  =====\n",
      "     \\\n",
      "      \\\n",
      "        ^__^\n",
      "        (oo)\\_______\n",
      "        (__)\\       )\\/\\\n",
      "            ||----w |\n",
      "            ||     ||\n"
     ]
    }
   ],
   "source": [
    "cowsay.cow(\"MOO..\")"
   ]
  },
  {
   "cell_type": "code",
   "execution_count": 8,
   "metadata": {},
   "outputs": [
    {
     "name": "stdout",
     "output_type": "stream",
     "text": [
      "  _______\n",
      "| Meoww.. |\n",
      "  =======\n",
      "       \\\n",
      "        \\\n",
      "         \\\n",
      "          \\\n",
      "                         _ ___.--'''`--''//-,-_--_.\n",
      "             \\\\`\"' ` || \\\\\\\\ \\\\ \\\\\\\\/ / // / ,-\\\\\\\\`,_\n",
      "            /'`  \\\\ \\\\ || Y  | \\\\|/ / // / - |__ `-,\n",
      "           /\\@\"\\\\  ` \\\\ `\\\\ |  | ||/ // | \\\\/  \\\\  `-._`-,_.,\n",
      "          /  _.-. `.-\\\\,___/\\\\ _/|_/_\\\\_\\\\/|_/ |     `-._._)\n",
      "          `-'``/  /  |  // \\\\__/\\\\__  /  \\\\__/ \\\\\n",
      "               `-'  /-\\\\/  | -|   \\\\__ \\\\   |-' |\n",
      "                 __/\\\\ / _/ \\\\/ __,-'   ) ,' _|'\n",
      "                (((__/(((_.' ((___..-'((__,'\n"
     ]
    }
   ],
   "source": [
    "cowsay.meow(\"Meoww..\")"
   ]
  },
  {
   "cell_type": "code",
   "execution_count": 9,
   "metadata": {},
   "outputs": [
    {
     "name": "stdout",
     "output_type": "stream",
     "text": [
      "  ____________\n",
      "| Hello All!!! |\n",
      "  ============\n",
      "               \\\n",
      "                \\\n",
      "                 \\\n",
      "                  \\\n",
      "              \n",
      "                   (\"`-'  '-/\") .___..--' ' \"`-._\n",
      "                       ` *_ *  )    `-.   (      ) .`-.__. `)\n",
      "                       (_Y_.) ' ._   )   `._` ;  `` -. .-'\n",
      "                    _.. `--'_..-_/   /--' _ .' ,4\n",
      "                 ( i l ),-''  ( l i),'  ( ( ! .-'\n"
     ]
    }
   ],
   "source": [
    "cowsay.kitty(\"Hello All!!!\")"
   ]
  },
  {
   "cell_type": "code",
   "execution_count": 10,
   "metadata": {},
   "outputs": [
    {
     "name": "stdout",
     "output_type": "stream",
     "text": [
      "  _______________\n",
      "| Say cheesee.... |\n",
      "  ===============\n",
      "               \\\n",
      "                \\\n",
      "                 \\\n",
      "                  \\\n",
      "                    /     \\_/         |\n",
      "                   |                 ||\n",
      "                   |                 ||\n",
      "                  |    ###\\  /###   | |\n",
      "                  |     0  \\/  0    | |\n",
      "                 /|                 | |\n",
      "                / |        <        |\\ \\\n",
      "               | /|                 | | |\n",
      "               | |     \\_______/   |  | |\n",
      "               | |                 | / /\n",
      "               /||                 /|||\n",
      "                  ----------------|\n",
      "                       | |    | |\n",
      "                       ***    ***\n",
      "                      /___\\  /___\\\n"
     ]
    }
   ],
   "source": [
    "cowsay.cheese(\"Say cheesee....\")"
   ]
  },
  {
   "cell_type": "code",
   "execution_count": 11,
   "metadata": {},
   "outputs": [
    {
     "name": "stdout",
     "output_type": "stream",
     "text": [
      "  ____________________\n",
      "| I am slow but steady |\n",
      "  ====================\n",
      "                            \\\n",
      "                             \\\n",
      "                              \\\n",
      "                               \\\n",
      "                                                                   ___-------___\n",
      "                                                               _-~~             ~~-_\n",
      "                                                            _-~                    /~-_\n",
      "                                 /^\\__/^\\         /~  \\                   /    \\\n",
      "                               /|  O|| O|        /      \\_______________/        \\\n",
      "                              | |___||__|      /       /                \\          \\\n",
      "                              |          \\    /      /                    \\          \\\n",
      "                              |   (_______) /______/                        \\_________ \\\n",
      "                              |         / /         \\                      /            \\\n",
      "                               \\         \\^\\\\         \\                  /               \\     /\n",
      "                                 \\         ||           \\______________/      _-_       //\\__//\n",
      "                                   \\       ||------_-~~-_ ------------- \\ --/~   ~\\    || __/\n",
      "                                     ~-----||====/~     |==================|       |/~~~~~\n",
      "                                      (_(__/  ./     /                    \\_\\      \\.\n",
      "                                             (_(___/                         \\_____)_)\n"
     ]
    }
   ],
   "source": [
    "cowsay.turtle(\"I am slow but steady\")"
   ]
  },
  {
   "cell_type": "code",
   "execution_count": 15,
   "metadata": {},
   "outputs": [
    {
     "name": "stdout",
     "output_type": "stream",
     "text": [
      "  ___________\n",
      "| I am stimpy |\n",
      "  ===========\n",
      "            \\\n",
      "             \\\n",
      "              \\\n",
      "               \\\n",
      "                   .    _  .\n",
      "                  |\\_|/__/|\n",
      "                  / / \\/ \\  \\\n",
      "                 /__|O||O|__ \\\n",
      "                |/_ \\_/\\_/ _\\ |\n",
      "                | | (____) | ||\n",
      "                \\/\\___/\\__/  //\n",
      "                (_/         ||\n",
      "                 |          ||\n",
      "                 |          ||\\\n",
      "                  \\        //_/\n",
      "                   \\______//\n",
      "                  __ || __||\n",
      "                 (____(____)\n"
     ]
    }
   ],
   "source": [
    "cowsay.stimpy(\"I am stimpy \")"
   ]
  },
  {
   "cell_type": "code",
   "execution_count": 16,
   "metadata": {},
   "outputs": [
    {
     "name": "stdout",
     "output_type": "stream",
     "text": [
      "  ____________\n",
      "| I am slugish |\n",
      "  ============\n",
      "            \\\n",
      "             \\\n",
      "              \\\n",
      "               \\\n",
      "                         ,.\n",
      "                        (_|,.\n",
      "                        ,' /, )_______   _\n",
      "                    __j o``-'        `.'-)'\n",
      "                    (\")                 \\'\n",
      "                    `-j                |\n",
      "                        `-._(           /\n",
      "                            |_\\  |--^.  /\n",
      "                        /_]'|_| /_)_/\n",
      "                            /_]'  /_]'\n"
     ]
    }
   ],
   "source": [
    "cowsay.pig(\"I am slugish\")"
   ]
  },
  {
   "cell_type": "code",
   "execution_count": 17,
   "metadata": {},
   "outputs": [
    {
     "data": {
      "text/plain": [
       "dict_keys(['beavis', 'cheese', 'daemon', 'cow', 'dragon', 'ghostbusters', 'kitty', 'meow', 'milk', 'pig', 'stegosaurus', 'stimpy', 'trex', 'turkey', 'turtle', 'tux'])"
      ]
     },
     "execution_count": 17,
     "metadata": {},
     "output_type": "execute_result"
    }
   ],
   "source": [
    "cowsay.char_names"
   ]
  },
  {
   "cell_type": "code",
   "execution_count": null,
   "metadata": {},
   "outputs": [],
   "source": []
  }
 ],
 "metadata": {
  "kernelspec": {
   "display_name": "Python 3",
   "language": "python",
   "name": "python3"
  },
  "language_info": {
   "codemirror_mode": {
    "name": "ipython",
    "version": 3
   },
   "file_extension": ".py",
   "mimetype": "text/x-python",
   "name": "python",
   "nbconvert_exporter": "python",
   "pygments_lexer": "ipython3",
   "version": "3.8.5"
  }
 },
 "nbformat": 4,
 "nbformat_minor": 4
}
